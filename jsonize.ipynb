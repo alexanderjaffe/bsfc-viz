{
 "cells": [
  {
   "cell_type": "code",
   "execution_count": 2,
   "metadata": {
    "collapsed": true
   },
   "outputs": [],
   "source": [
    "import sqlite3\n",
    "import json\n",
    "import pandas as pd"
   ]
  },
  {
   "cell_type": "code",
   "execution_count": 4,
   "metadata": {
    "collapsed": false
   },
   "outputs": [
    {
     "name": "stdout",
     "output_type": "stream",
     "text": [
      "[(u'django_migrations',), (u'sqlite_sequence',), (u'auth_group',), (u'auth_group_permissions',), (u'auth_user_groups',), (u'auth_user_user_permissions',), (u'django_admin_log',), (u'django_content_type',), (u'auth_permission',), (u'auth_user',), (u'cost_cost',), (u'django_session',), (u'item_item',), (u'revenue_revenue',)]\n"
     ]
    }
   ],
   "source": [
    "# open the db\n",
    "conn = sqlite3.connect('data/db.sqlite3')\n",
    "c = conn.cursor()\n",
    "c.execute(\"SELECT name FROM sqlite_master WHERE type='table';\")\n",
    "print(c.fetchall())"
   ]
  },
  {
   "cell_type": "code",
   "execution_count": 5,
   "metadata": {
    "collapsed": false
   },
   "outputs": [],
   "source": [
    "c.execute('SELECT * FROM item_item')\n",
    "all_items = c.fetchall()"
   ]
  },
  {
   "cell_type": "code",
   "execution_count": 10,
   "metadata": {
    "collapsed": false
   },
   "outputs": [],
   "source": [
    "QUERY = '''SELECT item_item.id, name, category, price, price_type, unit_name, item_cost, store_use, \\\n",
    "    spoilage, food_prep, committee, sold, member_discount_applied, created_at FROM item_item \\\n",
    "        INNER JOIN cost_cost ON item_item.cost_id = cost_cost.id INNER JOIN revenue_revenue \\\n",
    "            ON item_item.revenue_id = revenue_revenue.id'''\n",
    "c.execute(QUERY)\n",
    "all_items = c.fetchall()"
   ]
  },
  {
   "cell_type": "code",
   "execution_count": 13,
   "metadata": {
    "collapsed": false
   },
   "outputs": [
    {
     "name": "stdout",
     "output_type": "stream",
     "text": [
      "['id', 'name', 'category', 'price', 'price_type', 'unit_name', 'item_cost', 'store_use', 'spoilage', 'food_prep', 'committee', 'sold', 'member_discount_applied', 'created_at']\n"
     ]
    }
   ],
   "source": [
    "#print len(all_items)\n",
    "#print all_items[0:3]\n",
    "print list(map(lambda x: x[0], c.description))"
   ]
  },
  {
   "cell_type": "code",
   "execution_count": 14,
   "metadata": {
    "collapsed": true
   },
   "outputs": [],
   "source": [
    "def jsonize(item, keys):\n",
    "    \n",
    "    temp = {}\n",
    "    i = 0\n",
    "    for field in item:\n",
    "        temp[keys[i]] = item[i]\n",
    "        i += 1\n",
    "    \n",
    "    return temp"
   ]
  },
  {
   "cell_type": "code",
   "execution_count": 15,
   "metadata": {
    "collapsed": false
   },
   "outputs": [],
   "source": [
    "items = []\n",
    "names = list(map(lambda x: x[0], c.description))\n",
    "\n",
    "for record in all_items:\n",
    "    items.append(jsonize(record, names))"
   ]
  },
  {
   "cell_type": "code",
   "execution_count": 16,
   "metadata": {
    "collapsed": false
   },
   "outputs": [
    {
     "name": "stdout",
     "output_type": "stream",
     "text": [
      "{'category': None, 'unit_name': None, 'name': u'Apple', 'store_use': 10.0, 'member_discount_applied': 0.0, 'price_type': u'FI', 'price': 20.0, 'spoilage': 10.0, 'committee': 0.0, 'sold': 0.0, 'created_at': u'2016-08-29 01:15:18.696869', 'food_prep': 0.0, 'id': 1, 'item_cost': 10.0}\n"
     ]
    }
   ],
   "source": [
    "print items[0]"
   ]
  },
  {
   "cell_type": "code",
   "execution_count": 112,
   "metadata": {
    "collapsed": true
   },
   "outputs": [],
   "source": [
    "outfile = open(\"items.json\",\"w\")\n",
    "outfile.write(json.dumps(items[1:1000]))\n",
    "outfile.close()"
   ]
  },
  {
   "cell_type": "code",
   "execution_count": 275,
   "metadata": {
    "collapsed": false
   },
   "outputs": [],
   "source": [
    "items_df = pd.read_sql(QUERY, sqlite3.connect('data/db.sqlite3'))"
   ]
  },
  {
   "cell_type": "code",
   "execution_count": 276,
   "metadata": {
    "collapsed": false
   },
   "outputs": [],
   "source": [
    "import datetime, time\n",
    "\n",
    "def midnight(date):\n",
    "    try:\n",
    "        d = datetime.datetime.strptime(date, \"%Y-%m-%d %H:%M:%S.%f\")\n",
    "    except:\n",
    "        d = datetime.datetime.strptime(date, \"%Y-%m-%d %H:%M:%S\")\n",
    "    return d.strftime(\"%Y-%m-%d 00:00:00\")"
   ]
  },
  {
   "cell_type": "code",
   "execution_count": 277,
   "metadata": {
    "collapsed": false
   },
   "outputs": [],
   "source": [
    "import re\n",
    "\n",
    "def trim_name(field):\n",
    "    m = re.search(\".*?([A-z0-9].+)\", field)\n",
    "    return m.group(1)\n",
    "\n",
    "# this is hacky, figure out regex\n",
    "def trim_cat(field):\n",
    "    #m = re.search(\"(.*)?[\\[]*.+\", field)\n",
    "    temp = field.replace(\" [Cashier Code: - ]\", \"\")\n",
    "    return temp.replace(\" [Cashier Code: ' ]\", \"\")"
   ]
  },
  {
   "cell_type": "code",
   "execution_count": 278,
   "metadata": {
    "collapsed": false
   },
   "outputs": [],
   "source": [
    "items_df[\"new_name\"] = items_df[\"name\"].apply(trim_name)\n",
    "items_df[\"new_cat\"] = items_df[\"category\"].apply(lambda x: trim_cat(str(x)))"
   ]
  },
  {
   "cell_type": "code",
   "execution_count": 279,
   "metadata": {
    "collapsed": false
   },
   "outputs": [],
   "source": [
    "items_df[\"new_date\"] = items_df.created_at.apply(midnight)\n",
    "items = items_df.drop([\"id\",\"created_at\",\"name\"], axis=1)"
   ]
  },
  {
   "cell_type": "code",
   "execution_count": 280,
   "metadata": {
    "collapsed": false
   },
   "outputs": [],
   "source": [
    "items_grouped = items.groupby([\"new_name\",\"new_cat\",\"new_date\"], as_index=False).aggregate({\"price\":\"first\",\"price_type\":\"first\", \\\n",
    "    \"sold\":\"sum\", \"unit_name\":\"first\", \"item_cost\":\"first\", \"store_use\":\"sum\", \"spoilage\":\"sum\",\"food_prep\":\"sum\", \\\n",
    "        \"committee\":\"sum\",\"member_discount_applied\":\"sum\"})"
   ]
  },
  {
   "cell_type": "code",
   "execution_count": 294,
   "metadata": {
    "collapsed": false
   },
   "outputs": [],
   "source": [
    "items_grouped.to_json(\"items.json\", orient=\"records\")"
   ]
  }
 ],
 "metadata": {
  "kernelspec": {
   "display_name": "Python 2",
   "language": "python",
   "name": "python2"
  },
  "language_info": {
   "codemirror_mode": {
    "name": "ipython",
    "version": 2
   },
   "file_extension": ".py",
   "mimetype": "text/x-python",
   "name": "python",
   "nbconvert_exporter": "python",
   "pygments_lexer": "ipython2",
   "version": "2.7.13"
  }
 },
 "nbformat": 4,
 "nbformat_minor": 0
}
